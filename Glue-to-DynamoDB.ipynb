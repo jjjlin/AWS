{
 "cells": [
  {
   "cell_type": "code",
   "execution_count": 1,
   "metadata": {},
   "outputs": [
    {
     "name": "stdout",
     "output_type": "stream",
     "text": [
      "Starting Spark application\n"
     ]
    },
    {
     "data": {
      "text/html": [
       "<table>\n",
       "<tr><th>ID</th><th>YARN Application ID</th><th>Kind</th><th>State</th><th>Spark UI</th><th>Driver log</th><th>Current session?</th></tr><tr><td>3</td><td>application_1574308627033_0004</td><td>pyspark</td><td>idle</td><td><a target=\"_blank\" href=\"http://ip-172-32-64-71.ec2.internal:20888/proxy/application_1574308627033_0004/\">Link</a></td><td><a target=\"_blank\" href=\"http://ip-172-32-84-183.ec2.internal:8042/node/containerlogs/container_1574308627033_0004_01_000001/livy\">Link</a></td><td>✔</td></tr></table>"
      ],
      "text/plain": [
       "<IPython.core.display.HTML object>"
      ]
     },
     "metadata": {},
     "output_type": "display_data"
    },
    {
     "data": {
      "application/vnd.jupyter.widget-view+json": {
       "model_id": "",
       "version_major": 2,
       "version_minor": 0
      },
      "text/plain": [
       "FloatProgress(value=0.0, bar_style='info', description='Progress:', layout=Layout(height='25px', width='50%'),…"
      ]
     },
     "metadata": {},
     "output_type": "display_data"
    },
    {
     "name": "stdout",
     "output_type": "stream",
     "text": [
      "SparkSession available as 'spark'.\n"
     ]
    },
    {
     "data": {
      "application/vnd.jupyter.widget-view+json": {
       "model_id": "",
       "version_major": 2,
       "version_minor": 0
      },
      "text/plain": [
       "FloatProgress(value=0.0, bar_style='info', description='Progress:', layout=Layout(height='25px', width='50%'),…"
      ]
     },
     "metadata": {},
     "output_type": "display_data"
    },
    {
     "name": "stdout",
     "output_type": "stream",
     "text": [
      "Count:  30219\n",
      "root\n",
      "|-- date: string\n",
      "|-- number: double\n",
      "|-- client: string\n",
      "\n",
      "Start testing\n",
      "Stop testing"
     ]
    }
   ],
   "source": [
    "import sys\n",
    "from awsglue.transforms import *\n",
    "from awsglue.utils import getResolvedOptions\n",
    "from pyspark.context import SparkContext\n",
    "from awsglue.context import GlueContext\n",
    "from awsglue.job import Job\n",
    "import boto3\n",
    "import json\n",
    "import decimal\n",
    "import pandas as pd\n",
    "import numpy as np\n",
    "from awsglue.dynamicframe import DynamicFrame\n",
    "\n",
    "## You can utilize the glue content in the glue DB and table\n",
    "glueContext = GlueContext(SparkContext.getOrCreate())\n",
    "persons = glueContext.create_dynamic_frame.from_catalog(database=\"test-forddb\", table_name=\"gluetoddb_csv\")\n",
    "print (\"Count: \", persons.count())\n",
    "persons.printSchema()\n",
    "\n",
    "## Define the destination of your DynamoDB\n",
    "dynamodb = boto3.resource('dynamodb','us-east-1') \n",
    "table = dynamodb.Table('testddb10')\n",
    "\n",
    "## Covert the spark DynamicFrame into Pandas DataFrame\n",
    "df = DynamicFrame.toDF(persons)\n",
    "pandas_df = df.toPandas()\n",
    "pandas_df1 = pandas_df.iloc[:90,:]\n",
    "\n",
    "## Transform the data from the data frame in to array\n",
    "a = np.asarray(pandas_df1)\n",
    "b = a.ravel()\n",
    "\n",
    "## Load the data from glue to DynamoDB\n",
    "print(\"Start testing\")\n",
    "\n",
    "for i in a:\n",
    "    \n",
    "    response = table.put_item(\n",
    "    Item={\n",
    "        'Client': i[2],\n",
    "        'Date': i[0]\n",
    "        \n",
    "    }\n",
    ")\n",
    "\n",
    "print(\"Stop testing\")"
   ]
  },
  {
   "cell_type": "code",
   "execution_count": null,
   "metadata": {},
   "outputs": [],
   "source": []
  }
 ],
 "metadata": {
  "kernelspec": {
   "display_name": "Sparkmagic (PySpark)",
   "language": "",
   "name": "pysparkkernel"
  },
  "language_info": {
   "codemirror_mode": {
    "name": "python",
    "version": 2
   },
   "mimetype": "text/x-python",
   "name": "pyspark",
   "pygments_lexer": "python2"
  }
 },
 "nbformat": 4,
 "nbformat_minor": 2
}
